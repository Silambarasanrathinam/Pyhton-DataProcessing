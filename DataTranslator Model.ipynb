{
  "nbformat": 4,
  "nbformat_minor": 0,
  "metadata": {
    "colab": {
      "provenance": []
    },
    "kernelspec": {
      "name": "python3",
      "display_name": "Python 3"
    },
    "language_info": {
      "name": "python"
    }
  },
  "cells": [
    {
      "cell_type": "code",
      "execution_count": null,
      "metadata": {
        "id": "vt7wynpFqkT9"
      },
      "outputs": [],
      "source": [
        "from deep_translator import GoogleTranslator\n",
        "import pandas as pd\n",
        "\n",
        "def translate_text_column(df, column_name):\n",
        "    translated_text = []\n",
        "    for text in df[column_name]:\n",
        "        if pd.isnull(text) or text != text:\n",
        "            translated_text.append(' ')\n",
        "            continue\n",
        "\n",
        "        translated = GoogleTranslator(source='auto', target='en').translate(text)\n",
        "        translated_text.append(translated)\n",
        "\n",
        "    df['Translated_Text'] = translated_text\n",
        "    return df\n",
        "\n",
        "# Reading the dataset\n",
        "df = pd.read_excel('dataset')\n",
        "\n",
        "# Translate the text column\n",
        "df = translate_text_column(df, 'Textcolumn')"
      ]
    }
  ]
}